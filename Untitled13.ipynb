{
 "cells": [
  {
   "cell_type": "code",
   "execution_count": 1,
   "metadata": {},
   "outputs": [
    {
     "name": "stdout",
     "output_type": "stream",
     "text": [
      "Input the radius of the circle : 2.6\n",
      "The area of the circle with radius 2.6 is: 21.237166338267002\n"
     ]
    }
   ],
   "source": [
    "#1. Calculate Area of a Circle \n",
    "\n",
    "from math import pi\n",
    "r = float(input (\"Input the radius of the circle : \"))\n",
    "print (\"The area of the circle with radius \" + str(r) + \" is: \" + str(pi * r**2))"
   ]
  },
  {
   "cell_type": "code",
   "execution_count": null,
   "metadata": {},
   "outputs": [],
   "source": [
    "#2. Check Number either positive, negative or zero \n",
    "\n",
    "num = float(input(\"Enter a number: \"))\n",
    "if num > 0:\n",
    "   print(\"Positive number\")\n",
    "elif num == 0:\n",
    "   print(\"Zero\")\n",
    "else:\n",
    "   print(\"Negative number\")\n",
    "\n",
    "num = float(input(\"Enter a number: \"))\n",
    "if num >= 0:\n",
    "   if num == 0:\n",
    "       print(\"Zero\")\n",
    "   else:\n",
    "       print(\"Positive number\")\n",
    "else:\n",
    "   print(\"Negative number\")"
   ]
  },
  {
   "cell_type": "code",
   "execution_count": null,
   "metadata": {},
   "outputs": [],
   "source": [
    "#4. Days Calculator \n",
    "\n",
    "import datetime\n",
    "from datetime import date\n",
    "def differ_days(date1, date2):\n",
    "\n",
    "    a = date1\n",
    "    b = date2\n",
    "    return (a-b).days\n",
    "print()\n",
    "print(differ_days((date(2016,10,12)), date(2015,12,10)))\n",
    "print(differ_days((date(2016,3,23)), date(2017,12,10)))\n",
    "print()\n"
   ]
  },
  {
   "cell_type": "code",
   "execution_count": null,
   "metadata": {},
   "outputs": [],
   "source": [
    "#5. Calculate Volume of a sphere \n",
    "\n",
    "PI = 3.14\n",
    "radius = float(input('Please Enter the Radius of a Sphere: '))\n",
    "sa =  4 * PI * radius * radius\n",
    "Volume = (4 / 3) * PI * radius * radius * radius\n",
    "\n",
    "print(\"\\n The Surface area of a Sphere = %.2f\" %sa)\n",
    "print(\"\\n The Volume of a Sphere = %.2f\" %Volume)\n"
   ]
  },
  {
   "cell_type": "code",
   "execution_count": null,
   "metadata": {},
   "outputs": [],
   "source": [
    "#6. Copy string n times \n",
    "\n",
    "st=input(\"Enter a string \\n\")\n",
    "n=input(\"How many copies of String you need: \")\n",
    "print(st * int(n))\n"
   ]
  },
  {
   "cell_type": "code",
   "execution_count": null,
   "metadata": {},
   "outputs": [],
   "source": [
    "#7. Check if number is Even or Odd \n",
    "\n",
    "num = int(input(\"Enter a number: \"))\n",
    "mod = num % 2\n",
    "if mod > 0:\n",
    "    print(\"This is an odd number.\")\n",
    "else:\n",
    "    print(\"This is an even number.\")\n"
   ]
  },
  {
   "cell_type": "code",
   "execution_count": null,
   "metadata": {},
   "outputs": [],
   "source": [
    "#8. Vowel Tester \n",
    "\n",
    "ch = input(\"Enter any character: \");\n",
    "if ch == '0':\n",
    "    exit();\n",
    "else:\n",
    "    if(ch=='a' or ch=='A' or ch=='e' or ch=='E' or ch=='i' or ch=='I'\n",
    "       or ch=='o' or ch=='O' or ch=='u' or ch=='U'):\n",
    "    \t    print(ch, \"is a vowel.\");\n",
    "    else:\n",
    "    \tprint(ch, \"is not a vowel.\");\n"
   ]
  },
  {
   "cell_type": "code",
   "execution_count": null,
   "metadata": {},
   "outputs": [],
   "source": [
    "#9. Triangle area\n",
    "\n",
    "base = float(input('Please Enter the Base of a Triangle: '))\n",
    "height = float(input('Please Enter the Height of a Triangle: '))\n",
    "\n",
    "# calculate the area\n",
    "area = (base * height) / 2\n",
    "\n",
    "print(\"Area of a Triangle with base\", base, \"and height\", height, \" is \", area)\n"
   ]
  },
  {
   "cell_type": "code",
   "execution_count": null,
   "metadata": {},
   "outputs": [],
   "source": [
    "#10. Calculate Interest \n",
    "\n",
    "princ_amount = float(input(\" Please Enter the Principal Amount : \"))\n",
    "rate_of_int = float(input(\" Please Enter the Rate Of Interest   : \"))\n",
    "time_period = float(input(\" Please Enter Time period in Years   : \"))\n",
    "\n",
    "simple_interest = (princ_amount * rate_of_int * time_period) / 100\n",
    "\n",
    "print(\"\\nSimple Interest for Principal Amount {0} = {1}\".format(princ_amount, simple_interest))\n"
   ]
  },
  {
   "cell_type": "code",
   "execution_count": null,
   "metadata": {},
   "outputs": [],
   "source": [
    "#11. Euclidean distance \n",
    "\n",
    "import math\n",
    "\n",
    "print(\"Enter Co-ordinate for x1:\")\n",
    "x1 = float(input())\n",
    "print(\"Enter Co-ordinate for x2:\")\n",
    "x2 = float(input())\n",
    "\n",
    "print(\"Enter Co-ordinate for y1:\")\n",
    "y1 = float(input())\n",
    "print(\"Enter Co-ordinate for y2:\")\n",
    "y2 = float(input())\n",
    "\n",
    "d = math.sqrt((x1 - x2) ** 2 + (y1 - y2) ** 2)\n",
    "\n",
    "print(\"Distance between points:\", d)\n"
   ]
  },
  {
   "cell_type": "code",
   "execution_count": null,
   "metadata": {},
   "outputs": [],
   "source": [
    "#13. BMI Calculator \n",
    "\n",
    "#Define the constants\n",
    "METER   = 100\n",
    " \n",
    "#Read the inputs from user\n",
    "height  = float(input(\"Enter your height in Centimeters: \"))\n",
    "weight  = float(input(\"Enter your weight in Kg: \"))\n",
    " \n",
    "temp    = height / METER\n",
    "#Calculate the BMI\n",
    "bmi = weight / (temp*temp)\n",
    " \n",
    "#Display the result\n",
    "print(\"Your Body Mass Index is: \",\"%d\"%(bmi))\n"
   ]
  },
  {
   "cell_type": "code",
   "execution_count": null,
   "metadata": {},
   "outputs": [],
   "source": [
    "#14. Sum of n Positive Integers\n",
    "\n",
    "n = int(input(\"Enter value of n: \"))\n",
    " \n",
    "#Calculate the sum\n",
    "total = n * (n+1) / 2\n",
    " \n",
    "#Display the result\n",
    "print(\"Sum of n Positive integers till\",n,\"is\",total)\n"
   ]
  },
  {
   "cell_type": "code",
   "execution_count": null,
   "metadata": {},
   "outputs": [],
   "source": [
    "#15. Digits Sum of a Number \n",
    "\n",
    "n=int(input(\"Enter a number: \"))\n",
    "tot=0\n",
    "while(n>0):\n",
    "    dig=n%10\n",
    "    tot=tot+dig\n",
    "    n=n//10\n",
    "print(\"The total sum of digits is:\",tot)\n"
   ]
  },
  {
   "cell_type": "code",
   "execution_count": null,
   "metadata": {},
   "outputs": [],
   "source": [
    "#16. Decimal to Binary Converter \n",
    "\n",
    "number = int(input(\"Enter a decimal number: \"))\n",
    "\n",
    "print(\"Binary Representation of\",number,\"is\", bin(number))\n",
    "\n",
    "\n",
    "\n",
    "b_num = list(input(\"Enter a Binary number: \"))\n",
    "value = 0\n",
    "\n",
    "for i in range(len(b_num)):\n",
    "\tdigit = b_num.pop()\n",
    "\tif digit == '1':\n",
    "\t\tvalue = value + pow(2, i)\n",
    "print(\"Decimal Representation of binary number is\",value)\n"
   ]
  },
  {
   "cell_type": "code",
   "execution_count": null,
   "metadata": {},
   "outputs": [],
   "source": [
    "#17. Binary to Decimal Converter \n",
    "\n",
    "b_num = list(input(\"Enter a Binary number: \"))\n",
    "value = 0\n",
    "\n",
    "for i in range(len(b_num)):\n",
    "\tdigit = b_num.pop()\n",
    "\tif digit == '1':\n",
    "\t\tvalue = value + pow(2, i)\n",
    "print(\"Decimal Representation is \", value)\n"
   ]
  },
  {
   "cell_type": "code",
   "execution_count": null,
   "metadata": {},
   "outputs": [],
   "source": [
    "#18. Vowel and Consonants Counter \n",
    "\n",
    "\n",
    "str1 = input(\"Enter Text: \")\n",
    "vowels = 0\n",
    "consonants = 0\n",
    "str1.lower()\n",
    "\n",
    "for i in str1:\n",
    "    if(i == 'a' or i == 'e' or i == 'i' or i == 'o' or i == 'u'):\n",
    "        vowels = vowels + 1\n",
    "    else:\n",
    "        consonants = consonants + 1\n",
    " \n",
    "print(\"Vowel: \",vowels)\n",
    "print(\"Constant: \",consonants)\n"
   ]
  },
  {
   "cell_type": "code",
   "execution_count": null,
   "metadata": {},
   "outputs": [],
   "source": [
    "#19. Palindrome tester \n",
    "\n",
    "string = input(\"Please enter your own String : \")\n",
    "\n",
    "if(string == string[:: - 1]):\n",
    "   print(\"This is a Palindrome String\")\n",
    "else:\n",
    "   print(\"This is Not a Palindrome String\")\n"
   ]
  },
  {
   "cell_type": "code",
   "execution_count": null,
   "metadata": {},
   "outputs": [],
   "source": [
    "#20. Count Alphabets, Numbers and Special Characters \n",
    "\n",
    "str1 = input(\"Enter text: \")\n",
    "alphabets = digits = special = 0\n",
    "\n",
    "for i in range(len(str1)):\n",
    "    if((str1[i] >= 'a' and str1[i] <= 'z') or (str1[i] >= 'A' and str1[i] <= 'Z')): \n",
    "        alphabets = alphabets + 1 \n",
    "    elif(str1[i] >= '0' and str1[i] <= '9'):\n",
    "        digits = digits + 1\n",
    "    else:\n",
    "        special = special + 1\n",
    "\n",
    "print(\"Number= \", digits)        \n",
    "print(\"Alphabet= \", alphabets)\n",
    "print(\"Special Characters= \", special)\n"
   ]
  },
  {
   "cell_type": "code",
   "execution_count": null,
   "metadata": {},
   "outputs": [],
   "source": [
    "21. Write a Python program to construct the following pattern \n",
    "\n",
    "\n",
    "n=5;\n",
    "for i in range(n):\n",
    "    for j in range(i):\n",
    "        print ('* ', end=\"\")\n",
    "    print('')\n",
    "\n",
    "for i in range(n,0,-1):\n",
    "    for j in range(i):\n",
    "        print('* ', end=\"\")\n",
    "    print('')\n"
   ]
  },
  {
   "cell_type": "code",
   "execution_count": null,
   "metadata": {},
   "outputs": [],
   "source": [
    "#22. Write a Python program to construct the following pattern \n",
    "\n",
    "print(\"Second Number Pattern \")\n",
    "lastNumber = 6\n",
    "for row in range(1, lastNumber):\n",
    "    for column in range(1, row + 1):\n",
    "        print(column, end=' ')\n",
    "    print(\"\")\n",
    "    \n",
    "for row in range(lastNumber,1, -1):\n",
    "    for column in range(1,row - 1):\n",
    "        print(column, end=' ')\n",
    "    print(\"\")\n"
   ]
  },
  {
   "cell_type": "code",
   "execution_count": null,
   "metadata": {},
   "outputs": [],
   "source": [
    "#23. Write a Python program to construct the following pattern \n",
    "\n",
    "for i in range(10):\n",
    "    print(str(i) * i)\n"
   ]
  }
 ],
 "metadata": {
  "kernelspec": {
   "display_name": "Python 3",
   "language": "python",
   "name": "python3"
  },
  "language_info": {
   "codemirror_mode": {
    "name": "ipython",
    "version": 3
   },
   "file_extension": ".py",
   "mimetype": "text/x-python",
   "name": "python",
   "nbconvert_exporter": "python",
   "pygments_lexer": "ipython3",
   "version": "3.6.5"
  }
 },
 "nbformat": 4,
 "nbformat_minor": 2
}
